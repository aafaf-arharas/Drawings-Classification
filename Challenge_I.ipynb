{
  "cells": [
    {
      "cell_type": "markdown",
      "metadata": {
        "id": "view-in-github",
        "colab_type": "text"
      },
      "source": [
        "<a href=\"https://colab.research.google.com/github/aafaf-arharas/Drawings-Classification/blob/main/Challenge_I.ipynb\" target=\"_parent\"><img src=\"https://colab.research.google.com/assets/colab-badge.svg\" alt=\"Open In Colab\"/></a>"
      ]
    },
    {
      "cell_type": "markdown",
      "metadata": {
        "id": "1cNOQG-RNFCQ"
      },
      "source": [
        "# Challenge Deep Learning"
      ]
    },
    {
      "cell_type": "markdown",
      "source": [
        "\n",
        "\n",
        "\n",
        "> HIBA ELHAYEL - AAFAF ARHARAS\n",
        "\n",
        "\n"
      ],
      "metadata": {
        "id": "CWBbh5yph8RC"
      }
    },
    {
      "cell_type": "markdown",
      "metadata": {
        "id": "om4bxcF3IYGY"
      },
      "source": [
        "## **Contexte**"
      ]
    },
    {
      "cell_type": "markdown",
      "metadata": {
        "id": "CWbLrG8NIqmA"
      },
      "source": [
        "L'objectif de ce challenge est de proposer une méthode de classification, basée sur des réseaux de neurones, permettant de classer des images issues de Google Quickdraw (https://quickdraw.withgoogle.com/data). Le jeu de données proposé comprend 5 classes balancées, avec 15000 exemples d'apprentissage et 5000 exemples de validation : des paniers, des yeux, des lunettes, des lapins et des mains."
      ]
    },
    {
      "cell_type": "markdown",
      "metadata": {
        "id": "C3NOTB3ScPsl"
      },
      "source": [
        "##**Méthodologie suivie**"
      ]
    },
    {
      "cell_type": "markdown",
      "metadata": {
        "id": "MNkLoubrozjG"
      },
      "source": [
        "Afin de réussir ce challenge, on va suivre les étapes de base suivantes :\n",
        "\n",
        "*   Importer les images d'entrées nécessaires pour l'entrainement et la validation et les transformer en matrice de pixels\n",
        "*   Normaliser les valeurs des pixels de l'image (diviser par 255)\n",
        "*   Construire une architecture modèle (séquentiel) avec différentes couches \n",
        "\n",
        "*   Entraîner le modèle\n",
        "*   Evaluer le modèle sur les données tests\n",
        "\n",
        "\n",
        "\n",
        "\n",
        "\n",
        "\n",
        "\n",
        "\n",
        "\n"
      ]
    },
    {
      "cell_type": "markdown",
      "metadata": {
        "id": "tzgpAw5sNFCk"
      },
      "source": [
        "#Importation des bibliothèques"
      ]
    },
    {
      "cell_type": "code",
      "execution_count": null,
      "metadata": {
        "id": "iCTSHW5MNFCo"
      },
      "outputs": [],
      "source": [
        "import tensorflow\n",
        "import pandas as pd\n",
        "import numpy as np\n",
        "import time\n",
        "from PIL import Image\n",
        "import glob\n",
        "import matplotlib.pyplot as plt\n",
        "%matplotlib inline\n",
        "import os\n",
        "import cv2 \n",
        "from tensorflow.keras.preprocessing.image import img_to_array, load_img, ImageDataGenerator\n",
        "from tensorflow.keras.utils import to_categorical\n",
        "from keras import layers\n",
        "from tensorflow.keras.optimizers import Adam\n",
        "from sklearn.model_selection import train_test_split\n",
        "from keras.callbacks import ModelCheckpoint\n",
        "from keras.preprocessing.image import ImageDataGenerator"
      ]
    },
    {
      "cell_type": "markdown",
      "metadata": {
        "id": "oRwtBFDWNFCu"
      },
      "source": [
        "# Préparation des données"
      ]
    },
    {
      "cell_type": "markdown",
      "metadata": {
        "id": "MJpWhuY0czBp"
      },
      "source": [
        "Vu que le dossier images qui contient les images pour l'entrainement et la validation du modèle est volumineux, on a décidé finalement de l'importer à travers du drive pour optimiser le temps de l'importation des donnée"
      ]
    },
    {
      "cell_type": "code",
      "execution_count": null,
      "metadata": {
        "colab": {
          "base_uri": "https://localhost:8080/"
        },
        "id": "aQzhYGprzSmF",
        "outputId": "49fd5898-23fc-4dcf-c923-e810bfe20659"
      },
      "outputs": [
        {
          "output_type": "stream",
          "name": "stdout",
          "text": [
            "Mounted at /content/drive\n"
          ]
        }
      ],
      "source": [
        "from google.colab import drive\n",
        "drive.mount('/content/drive')"
      ]
    },
    {
      "cell_type": "code",
      "execution_count": null,
      "metadata": {
        "id": "YoQ2dcxNlJjf"
      },
      "outputs": [],
      "source": [
        "!unzip \"/content/drive/MyDrive/examDL/Data_Train_Valid.zip\""
      ]
    },
    {
      "cell_type": "markdown",
      "metadata": {
        "id": "BrIGS-DDfQrx"
      },
      "source": [
        "##Paramètres liés aux données"
      ]
    },
    {
      "cell_type": "code",
      "execution_count": null,
      "metadata": {
        "id": "-T8iscTvNFCw"
      },
      "outputs": [],
      "source": [
        "classes = [\"basket\",\"eye\",\"binoculars\",\"rabbit\",\"hand\"]\n",
        "train = pd.read_csv('/content/drive/MyDrive/examDL/train.csv')\n",
        "valid = pd.read_csv('/content/drive/MyDrive/examDL/valid.csv')\n",
        "\n",
        "img_shape = (28, 28, 3)\n",
        "img_size = img_shape[:2]\n",
        "num_classes = 5"
      ]
    },
    {
      "cell_type": "markdown",
      "metadata": {
        "id": "AAEdDgVdWp3U"
      },
      "source": [
        "## Visualisation de données\n",
        "\n",
        "\n"
      ]
    },
    {
      "cell_type": "code",
      "execution_count": null,
      "metadata": {
        "colab": {
          "base_uri": "https://localhost:8080/",
          "height": 540
        },
        "id": "6bHsumedNFCz",
        "outputId": "9002c5da-9dfc-467b-af21-5afc8dae0aff"
      },
      "outputs": [
        {
          "output_type": "display_data",
          "data": {
            "image/png": "[encoded data removed]",
            "text/plain": [
              "<Figure size 1296x648 with 5 Axes>"
            ]
          },
          "metadata": {
            "needs_background": "light"
          }
        }
      ],
      "source": [
        "plt.figure(figsize=(18,9))\n",
        "for i in range(0,5):\n",
        "    ax= plt.subplot(3,2 ,i+1)\n",
        "    mydata = pd.read_csv(\"train.csv\",skiprows = [1], nrows=1)\n",
        "    im = Image.open('images/'+classes[i]+'/'+ os.listdir(\"images/\"+classes[i])[0])\n",
        "    fig=ax.imshow(im)\n",
        "    plt.title(classes[i])\n",
        "    fig.axes.get_xaxis().set_visible(False)\n",
        "    fig.axes.get_yaxis().set_visible(False)\n",
        "plt.show()    \n"
      ]
    },
    {
      "cell_type": "markdown",
      "metadata": {
        "id": "C4Uqog_vWYqm"
      },
      "source": [
        "## Chargement des données "
      ]
    },
    {
      "cell_type": "markdown",
      "metadata": {
        "id": "7eIfKgKKfkoB"
      },
      "source": [
        "D'abord, il nous faut en entrée, des images sous la forme d’une matrice de pixels de 2 dimensions pour une image en niveaux de gris, la couleur est représentée par une troisième dimension, de profondeur 3 pour représenter les couleurs fondamentales [Rouge, Vert, Bleu].\n",
        "Pour cela on a définit la fontion get_data qui à partir des fichiers csv train et valid parcours le dossier images pour récuperer toutes les images et les transformer en matrice de pixels pour la suite."
      ]
    },
    {
      "cell_type": "code",
      "execution_count": null,
      "metadata": {
        "id": "m-ofq6vOqDdP"
      },
      "outputs": [],
      "source": [
        "def get_data(train, valid, img_size):\n",
        "  \n",
        "    xtrain = []  \n",
        "    ytrain = train['class_label']\n",
        "    x_valid = []\n",
        "    y_valid= valid['class_label']\n",
        "\n",
        "    for imgt in 'images/'+train['relative_path'] :\n",
        "        try:\n",
        "          img_t = load_img(imgt, target_size=img_size)\n",
        "          img_arr_t = img_to_array(img_t)\n",
        "          xtrain.append(img_arr_t)\n",
        "        except Exception as e:\n",
        "          print(e)\n",
        "   \n",
        "    x_train, x_test, y_train, y_test= train_test_split(xtrain, ytrain, test_size=0.15, random_state=42)\n",
        "\n",
        "    for imgv in 'images/'+valid['relative_path'] : \n",
        "       try:\n",
        "          img_v = load_img(imgv, target_size=img_size)\n",
        "          img_arr_v = img_to_array(img_v)\n",
        "          x_valid.append(img_arr_v)\n",
        "       except Exception as e:\n",
        "          print(e)\n",
        "    \n",
        "    \n",
        "    return x_train, y_train, x_valid, y_valid, x_test, y_test"
      ]
    },
    {
      "cell_type": "code",
      "execution_count": null,
      "metadata": {
        "id": "MPJeNuvF8aba"
      },
      "outputs": [],
      "source": [
        "x_train, y_train, x_valid, y_valid, x_test, y_test= get_data(train, valid, img_size)"
      ]
    },
    {
      "cell_type": "markdown",
      "metadata": {
        "id": "prsLvvO9Wj7c"
      },
      "source": [
        "## Prétraitement des données\n"
      ]
    },
    {
      "cell_type": "code",
      "execution_count": null,
      "metadata": {
        "colab": {
          "base_uri": "https://localhost:8080/"
        },
        "id": "8txavU1jW7Zv",
        "outputId": "7624528b-9cf4-4a54-cde8-00aa860692d2"
      },
      "outputs": [
        {
          "output_type": "stream",
          "name": "stdout",
          "text": [
            "Train shapes      : (63750, 28, 28, 3) (63750, 5)\n",
            "Valid shapes      : (25000, 28, 28, 3) (25000, 5)\n",
            "Test shapes      : (25000, 28, 28, 3) (25000, 5)\n"
          ]
        }
      ],
      "source": [
        "# Normalisation des données\n",
        "X_train = np.array(x_train) / 255\n",
        "X_valid = np.array(x_valid) / 255\n",
        "X_test = np.array(x_test) / 255\n",
        "\n",
        "# Convertir les vecters en matrices \n",
        "Y_train = tensorflow.keras.utils.to_categorical(y_train, num_classes)\n",
        "Y_valid = tensorflow.keras.utils.to_categorical(y_valid, num_classes)\n",
        "Y_test = tensorflow.keras.utils.to_categorical(y_test, num_classes)\n",
        "\n",
        "#test\n",
        "print('Train shapes      :',X_train.shape, Y_train.shape)\n",
        "print('Valid shapes      :',X_valid.shape, Y_valid.shape)\n",
        "print('Test shapes      :',X_valid.shape, Y_valid.shape)\n"
      ]
    },
    {
      "cell_type": "markdown",
      "metadata": {
        "id": "4xDdaBJIC91E"
      },
      "source": [
        "# Mise en place du modèle"
      ]
    },
    {
      "cell_type": "markdown",
      "source": [
        "## Paramètres du modèle"
      ],
      "metadata": {
        "id": "wq62C1iCcSJl"
      }
    },
    {
      "cell_type": "code",
      "source": [
        "num_epochs = 20 #30\n",
        "batch_size = 256 #128\n",
        "filepath = '/content/drive/MyDrive/examDL/Challenge_AAFAF_HIBA.h5' #path where to save the model"
      ],
      "metadata": {
        "id": "m4REz_mpcSgZ"
      },
      "execution_count": null,
      "outputs": []
    },
    {
      "cell_type": "markdown",
      "metadata": {
        "id": "xIPG_ECqGooR"
      },
      "source": [
        "## Définition du modèle (CNN)"
      ]
    },
    {
      "cell_type": "markdown",
      "source": [
        " Après avoir traité nos données, on va construire notre modèle. Notre choix s'est porté sur un modèle CNN composé de 10 couches (sans la couche Dropout) .L'évaluation du modèle sur les données test a donnée une précision de 94.51%. Néanmoins, On a remarqué  que l’erreur sur les données de test devient croissante ce qui montre que notre modèle est donc en overfitting.\n",
        "![overfitig.png](data:image/png;base64,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)\n",
        "\n",
        " Ainsi, l'ajout d'une couche **Dropout** après la configuration des couches convolutionnelles (MaxPooling2D et Flatten) a réglé le problème. \n",
        "\n",
        "\n",
        "\n"
      ],
      "metadata": {
        "id": "oPwfaK2A8SKo"
      }
    },
    {
      "cell_type": "code",
      "execution_count": null,
      "metadata": {
        "id": "uX-QIu-WC2Zu"
      },
      "outputs": [],
      "source": [
        "def MyModel(input_shape):\n",
        "\n",
        "  model = tensorflow.keras.Sequential()\n",
        "  model.add(layers.Convolution2D(16, (3, 3),\n",
        "                          padding='same',\n",
        "                          input_shape=input_shape, activation='relu'))\n",
        "  model.add(layers.MaxPooling2D(pool_size=(2, 2)))\n",
        "  model.add(layers.Convolution2D(32, (3, 3), padding='same', activation= 'relu'))\n",
        "  model.add(layers.MaxPooling2D(pool_size=(2, 2)))\n",
        "  model.add(layers.Convolution2D(64, (3, 3), padding='same', activation= 'relu'))\n",
        "  model.add(layers.MaxPooling2D(pool_size =(2,2)))\n",
        "  model.add(layers.Flatten())\n",
        "\n",
        "  # On a ajouté cette couche pour se débarrasser complètement de l’overfitting\n",
        "  model.add(layers.Dropout(0.5)) \n",
        "\n",
        "  model.add(layers.Dense(128, activation='relu'))\n",
        "  model.add(layers.Dense(100, activation='relu')) \n",
        "  model.add(layers.Dense(5, activation='softmax')) \n",
        "\n",
        "  # Compile model\n",
        "  model.compile(loss='categorical_crossentropy',\n",
        "              optimizer='Adam',\n",
        "              metrics=['accuracy'])\n",
        "    \n",
        "  model.summary()\n",
        "\n",
        "  return model"
      ]
    },
    {
      "cell_type": "code",
      "execution_count": null,
      "metadata": {
        "colab": {
          "base_uri": "https://localhost:8080/"
        },
        "id": "a1NBjglKDwZd",
        "outputId": "37d2a581-9d42-4af3-ad64-66f79f89f78a"
      },
      "outputs": [
        {
          "output_type": "stream",
          "name": "stdout",
          "text": [
            "Model: \"sequential_1\"\n",
            "_________________________________________________________________\n",
            " Layer (type)                Output Shape              Param #   \n",
            "=================================================================\n",
            " conv2d_3 (Conv2D)           (None, 28, 28, 16)        448       \n",
            "                                                                 \n",
            " max_pooling2d_3 (MaxPooling  (None, 14, 14, 16)       0         \n",
            " 2D)                                                             \n",
            "                                                                 \n",
            " conv2d_4 (Conv2D)           (None, 14, 14, 32)        4640      \n",
            "                                                                 \n",
            " max_pooling2d_4 (MaxPooling  (None, 7, 7, 32)         0         \n",
            " 2D)                                                             \n",
            "                                                                 \n",
            " conv2d_5 (Conv2D)           (None, 7, 7, 64)          18496     \n",
            "                                                                 \n",
            " max_pooling2d_5 (MaxPooling  (None, 3, 3, 64)         0         \n",
            " 2D)                                                             \n",
            "                                                                 \n",
            " flatten_1 (Flatten)         (None, 576)               0         \n",
            "                                                                 \n",
            " dropout_1 (Dropout)         (None, 576)               0         \n",
            "                                                                 \n",
            " dense_3 (Dense)             (None, 128)               73856     \n",
            "                                                                 \n",
            " dense_4 (Dense)             (None, 100)               12900     \n",
            "                                                                 \n",
            " dense_5 (Dense)             (None, 5)                 505       \n",
            "                                                                 \n",
            "=================================================================\n",
            "Total params: 110,845\n",
            "Trainable params: 110,845\n",
            "Non-trainable params: 0\n",
            "_________________________________________________________________\n"
          ]
        }
      ],
      "source": [
        "model = MyModel(input_shape=X_train.shape[1:]) #img_shape"
      ]
    },
    {
      "cell_type": "markdown",
      "metadata": {
        "id": "Qu4_RKe0F6dA"
      },
      "source": [
        "#Entrainement et Sauvegarde du modèle"
      ]
    },
    {
      "cell_type": "markdown",
      "source": [
        "\n",
        "Pour enregistrer la meilleure version du modèle on a utilisé les callbachs :\n",
        "\n",
        "\n"
      ],
      "metadata": {
        "id": "zFba87sEc6nK"
      }
    },
    {
      "cell_type": "code",
      "execution_count": null,
      "metadata": {
        "id": "EhhwHuxAuSAW",
        "colab": {
          "base_uri": "https://localhost:8080/"
        },
        "outputId": "306a9277-c1df-413b-8472-f98966fd504f"
      },
      "outputs": [
        {
          "output_type": "stream",
          "name": "stdout",
          "text": [
            "Epoch 1/20\n",
            "\n",
            "Epoch 00001: val_loss improved from inf to 0.28159, saving model to /content/drive/MyDrive/examDL/Challenge_AAFAF_HIBA.h5\n",
            "250/250 - 5s - loss: 0.5768 - accuracy: 0.7971 - val_loss: 0.2816 - val_accuracy: 0.9118 - 5s/epoch - 20ms/step\n",
            "Epoch 2/20\n",
            "\n",
            "Epoch 00002: val_loss improved from 0.28159 to 0.21968, saving model to /content/drive/MyDrive/examDL/Challenge_AAFAF_HIBA.h5\n",
            "250/250 - 3s - loss: 0.2977 - accuracy: 0.9021 - val_loss: 0.2197 - val_accuracy: 0.9281 - 3s/epoch - 14ms/step\n",
            "Epoch 3/20\n",
            "\n",
            "Epoch 00003: val_loss improved from 0.21968 to 0.20484, saving model to /content/drive/MyDrive/examDL/Challenge_AAFAF_HIBA.h5\n",
            "250/250 - 3s - loss: 0.2448 - accuracy: 0.9194 - val_loss: 0.2048 - val_accuracy: 0.9319 - 3s/epoch - 14ms/step\n",
            "Epoch 4/20\n",
            "\n",
            "Epoch 00004: val_loss improved from 0.20484 to 0.17223, saving model to /content/drive/MyDrive/examDL/Challenge_AAFAF_HIBA.h5\n",
            "250/250 - 4s - loss: 0.2172 - accuracy: 0.9276 - val_loss: 0.1722 - val_accuracy: 0.9417 - 4s/epoch - 14ms/step\n",
            "Epoch 5/20\n",
            "\n",
            "Epoch 00005: val_loss improved from 0.17223 to 0.17165, saving model to /content/drive/MyDrive/examDL/Challenge_AAFAF_HIBA.h5\n",
            "250/250 - 3s - loss: 0.1956 - accuracy: 0.9355 - val_loss: 0.1716 - val_accuracy: 0.9419 - 3s/epoch - 14ms/step\n",
            "Epoch 6/20\n",
            "\n",
            "Epoch 00006: val_loss did not improve from 0.17165\n",
            "250/250 - 3s - loss: 0.1873 - accuracy: 0.9368 - val_loss: 0.1891 - val_accuracy: 0.9378 - 3s/epoch - 13ms/step\n",
            "Epoch 7/20\n",
            "\n",
            "Epoch 00007: val_loss improved from 0.17165 to 0.15030, saving model to /content/drive/MyDrive/examDL/Challenge_AAFAF_HIBA.h5\n",
            "250/250 - 4s - loss: 0.1810 - accuracy: 0.9398 - val_loss: 0.1503 - val_accuracy: 0.9496 - 4s/epoch - 14ms/step\n",
            "Epoch 8/20\n",
            "\n",
            "Epoch 00008: val_loss improved from 0.15030 to 0.14880, saving model to /content/drive/MyDrive/examDL/Challenge_AAFAF_HIBA.h5\n",
            "250/250 - 4s - loss: 0.1644 - accuracy: 0.9447 - val_loss: 0.1488 - val_accuracy: 0.9502 - 4s/epoch - 14ms/step\n",
            "Epoch 9/20\n",
            "\n",
            "Epoch 00009: val_loss did not improve from 0.14880\n",
            "250/250 - 4s - loss: 0.1584 - accuracy: 0.9470 - val_loss: 0.1562 - val_accuracy: 0.9489 - 4s/epoch - 16ms/step\n",
            "Epoch 10/20\n",
            "\n",
            "Epoch 00010: val_loss improved from 0.14880 to 0.13848, saving model to /content/drive/MyDrive/examDL/Challenge_AAFAF_HIBA.h5\n",
            "250/250 - 5s - loss: 0.1515 - accuracy: 0.9482 - val_loss: 0.1385 - val_accuracy: 0.9524 - 5s/epoch - 18ms/step\n",
            "Epoch 11/20\n",
            "\n",
            "Epoch 00011: val_loss did not improve from 0.13848\n",
            "250/250 - 4s - loss: 0.1446 - accuracy: 0.9502 - val_loss: 0.1410 - val_accuracy: 0.9524 - 4s/epoch - 16ms/step\n",
            "Epoch 12/20\n",
            "\n",
            "Epoch 00012: val_loss did not improve from 0.13848\n",
            "250/250 - 4s - loss: 0.1407 - accuracy: 0.9523 - val_loss: 0.1415 - val_accuracy: 0.9524 - 4s/epoch - 16ms/step\n",
            "Epoch 13/20\n",
            "\n",
            "Epoch 00013: val_loss improved from 0.13848 to 0.13472, saving model to /content/drive/MyDrive/examDL/Challenge_AAFAF_HIBA.h5\n",
            "250/250 - 4s - loss: 0.1357 - accuracy: 0.9543 - val_loss: 0.1347 - val_accuracy: 0.9540 - 4s/epoch - 15ms/step\n",
            "Epoch 14/20\n",
            "\n",
            "Epoch 00014: val_loss improved from 0.13472 to 0.13457, saving model to /content/drive/MyDrive/examDL/Challenge_AAFAF_HIBA.h5\n",
            "250/250 - 3s - loss: 0.1301 - accuracy: 0.9552 - val_loss: 0.1346 - val_accuracy: 0.9547 - 3s/epoch - 14ms/step\n",
            "Epoch 15/20\n",
            "\n",
            "Epoch 00015: val_loss did not improve from 0.13457\n",
            "250/250 - 3s - loss: 0.1290 - accuracy: 0.9553 - val_loss: 0.1357 - val_accuracy: 0.9541 - 3s/epoch - 14ms/step\n",
            "Epoch 16/20\n",
            "\n",
            "Epoch 00016: val_loss improved from 0.13457 to 0.13130, saving model to /content/drive/MyDrive/examDL/Challenge_AAFAF_HIBA.h5\n",
            "250/250 - 4s - loss: 0.1233 - accuracy: 0.9574 - val_loss: 0.1313 - val_accuracy: 0.9550 - 4s/epoch - 14ms/step\n",
            "Epoch 17/20\n",
            "\n",
            "Epoch 00017: val_loss did not improve from 0.13130\n",
            "250/250 - 3s - loss: 0.1212 - accuracy: 0.9582 - val_loss: 0.1319 - val_accuracy: 0.9557 - 3s/epoch - 14ms/step\n",
            "Epoch 18/20\n",
            "\n",
            "Epoch 00018: val_loss improved from 0.13130 to 0.13069, saving model to /content/drive/MyDrive/examDL/Challenge_AAFAF_HIBA.h5\n",
            "250/250 - 4s - loss: 0.1196 - accuracy: 0.9582 - val_loss: 0.1307 - val_accuracy: 0.9566 - 4s/epoch - 15ms/step\n",
            "Epoch 19/20\n",
            "\n",
            "Epoch 00019: val_loss did not improve from 0.13069\n",
            "250/250 - 3s - loss: 0.1147 - accuracy: 0.9601 - val_loss: 0.1340 - val_accuracy: 0.9553 - 3s/epoch - 13ms/step\n",
            "Epoch 20/20\n",
            "\n",
            "Epoch 00020: val_loss did not improve from 0.13069\n",
            "250/250 - 3s - loss: 0.1133 - accuracy: 0.9602 - val_loss: 0.1327 - val_accuracy: 0.9551 - 3s/epoch - 13ms/step\n"
          ]
        }
      ],
      "source": [
        "#create callback\n",
        "checkpoint = ModelCheckpoint(filepath=filepath, \n",
        "                             monitor='val_loss',\n",
        "                             verbose=2, \n",
        "                             save_best_only=True,\n",
        "                             mode='min')\n",
        "callbacks = [checkpoint]\n",
        "\n",
        "#fit the model\n",
        "history = model.fit(X_train,\n",
        "                  Y_train,\n",
        "                  batch_size=batch_size,\n",
        "                  epochs=num_epochs,\n",
        "                  verbose=2,\n",
        "                  validation_data=(X_valid, Y_valid),\n",
        "                  callbacks=callbacks,\n",
        "                  use_multiprocessing=True)\n"
      ]
    },
    {
      "cell_type": "code",
      "source": [
        "# enregistrement des poids\n",
        "model.save_weights('/content/drive/MyDrive/examDL/weights.h5')"
      ],
      "metadata": {
        "id": "_nDxPfshhL5v"
      },
      "execution_count": null,
      "outputs": []
    },
    {
      "cell_type": "markdown",
      "metadata": {
        "id": "VU8s-p8kiyc0"
      },
      "source": [
        "#Evaluation du modèle\n"
      ]
    },
    {
      "cell_type": "markdown",
      "source": [
        "Afin d'analyser le comportement de notre modèle, on va comparer les courbes de loss et les courbes de précision."
      ],
      "metadata": {
        "id": "CIiTfC0RespQ"
      }
    },
    {
      "cell_type": "code",
      "execution_count": null,
      "metadata": {
        "colab": {
          "base_uri": "https://localhost:8080/",
          "height": 430
        },
        "id": "2txM1vlWZq2J",
        "outputId": "8599e479-ee36-45e4-efed-8cea5cbcf09a"
      },
      "outputs": [
        {
          "output_type": "display_data",
          "data": {
            "image/png": "[encoded data removed]",
            "text/plain": [
              "<Figure size 1080x1080 with 2 Axes>"
            ]
          },
          "metadata": {
            "needs_background": "light"
          }
        }
      ],
      "source": [
        "acc = history.history['accuracy']\n",
        "val_acc = history.history['val_accuracy']\n",
        "loss = history.history['loss']\n",
        "val_loss = history.history['val_loss']\n",
        "\n",
        "\n",
        "plt.figure(figsize=(15, 15))\n",
        "plt.subplot(2, 2, 1)\n",
        "plt.plot(acc, label='Training Accuracy')\n",
        "plt.plot(val_acc, label='Validation Accuracy')\n",
        "plt.legend(loc='lower right')\n",
        "plt.title('Training and Validation Accuracy')\n",
        "plt.xlabel('Epochs')\n",
        "plt.ylabel('Accuracy')\n",
        "\n",
        "plt.subplot(2, 2, 2)\n",
        "plt.plot(loss, label='Training Loss')\n",
        "plt.plot(val_loss, label='Validation Loss')\n",
        "plt.legend(loc='upper right')\n",
        "plt.title('Training and Validation Loss')\n",
        "plt.xlabel('Epochs')\n",
        "plt.ylabel('Loss')\n",
        "\n",
        "plt.savefig('model_training_history')\n",
        "plt.show()"
      ]
    },
    {
      "cell_type": "markdown",
      "source": [
        "Essayons notre modèle sur les données de test :"
      ],
      "metadata": {
        "id": "7kRCwBDAuAfY"
      }
    },
    {
      "cell_type": "code",
      "source": [
        "#Load and evaluate the best model version\n",
        "from tensorflow.keras.models import load_model \n",
        "\n",
        "model = load_model(filepath)\n",
        "\n",
        "model.summary()\n",
        "\n",
        "score = model.evaluate(X_test, Y_test, verbose=1)\n",
        "print('Test loss: {:0.2f}%, Test accuracy: {:0.2f}% '.format(score[0]*100,score[1]*100) )\n"
      ],
      "metadata": {
        "colab": {
          "base_uri": "https://localhost:8080/"
        },
        "id": "NaK2JofkeEos",
        "outputId": "627d6395-3a6c-4691-de60-f7a2e15a80c5"
      },
      "execution_count": null,
      "outputs": [
        {
          "output_type": "stream",
          "name": "stdout",
          "text": [
            "Model: \"sequential_1\"\n",
            "_________________________________________________________________\n",
            " Layer (type)                Output Shape              Param #   \n",
            "=================================================================\n",
            " conv2d_3 (Conv2D)           (None, 28, 28, 16)        448       \n",
            "                                                                 \n",
            " max_pooling2d_3 (MaxPooling  (None, 14, 14, 16)       0         \n",
            " 2D)                                                             \n",
            "                                                                 \n",
            " conv2d_4 (Conv2D)           (None, 14, 14, 32)        4640      \n",
            "                                                                 \n",
            " max_pooling2d_4 (MaxPooling  (None, 7, 7, 32)         0         \n",
            " 2D)                                                             \n",
            "                                                                 \n",
            " conv2d_5 (Conv2D)           (None, 7, 7, 64)          18496     \n",
            "                                                                 \n",
            " max_pooling2d_5 (MaxPooling  (None, 3, 3, 64)         0         \n",
            " 2D)                                                             \n",
            "                                                                 \n",
            " flatten_1 (Flatten)         (None, 576)               0         \n",
            "                                                                 \n",
            " dropout_1 (Dropout)         (None, 576)               0         \n",
            "                                                                 \n",
            " dense_3 (Dense)             (None, 128)               73856     \n",
            "                                                                 \n",
            " dense_4 (Dense)             (None, 100)               12900     \n",
            "                                                                 \n",
            " dense_5 (Dense)             (None, 5)                 505       \n",
            "                                                                 \n",
            "=================================================================\n",
            "Total params: 110,845\n",
            "Trainable params: 110,845\n",
            "Non-trainable params: 0\n",
            "_________________________________________________________________\n",
            "352/352 [==============================] - 2s 5ms/step - loss: 0.1309 - accuracy: 0.9579\n",
            "Test loss: 13.09%, Test accuracy: 95.79% \n"
          ]
        }
      ]
    },
    {
      "cell_type": "markdown",
      "metadata": {
        "id": "yTTS5RKRnjmx"
      },
      "source": [
        "#Conclusion"
      ]
    },
    {
      "cell_type": "markdown",
      "metadata": {
        "id": "u0lgmTwbnoTX"
      },
      "source": [
        "Il s'est avéré que ce modèle CNN semble adapté à ce type de classification, il est robuste, optimal et donne une précision de de 95.8%.\n",
        "On va essayer par la suite de tester ce modèle sur des images de notre choix dans le deuxième Notebook.\n",
        "\n",
        "\n",
        "\n"
      ]
    },
    {
      "cell_type": "code",
      "source": [
        "pip freeze > '/content/drive/MyDrive/examDL/requirements.txt'"
      ],
      "metadata": {
        "id": "vL44o7NljKIY"
      },
      "execution_count": null,
      "outputs": []
    }
  ],
  "metadata": {
    "accelerator": "GPU",
    "colab": {
      "collapsed_sections": [
        "1cNOQG-RNFCQ"
      ],
      "name": "Challenge_I.ipynb",
      "provenance": [],
      "include_colab_link": true
    },
    "kernelspec": {
      "display_name": "kernel_english_courses",
      "name": "kernel"
    },
    "language_info": {
      "codemirror_mode": {
        "name": "ipython",
        "version": 3
      },
      "file_extension": ".py",
      "mimetype": "text/x-python",
      "name": "python",
      "nbconvert_exporter": "python",
      "pygments_lexer": "ipython3",
      "version": "3.8.6-final"
    }
  },
  "nbformat": 4,
  "nbformat_minor": 0
}